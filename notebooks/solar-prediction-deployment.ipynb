{
 "cells": [
  {
   "cell_type": "code",
   "execution_count": 32,
   "metadata": {
    "_cell_guid": "b1076dfc-b9ad-4769-8c92-a6c4dae69d19",
    "_uuid": "8f2839f25d086af736a60e9eeb907d3b93b6e0e5",
    "execution": {
     "iopub.execute_input": "2021-06-01T10:56:49.522480Z",
     "iopub.status.busy": "2021-06-01T10:56:49.521684Z",
     "iopub.status.idle": "2021-06-01T10:56:49.528530Z",
     "shell.execute_reply": "2021-06-01T10:56:49.527419Z",
     "shell.execute_reply.started": "2021-06-01T10:56:49.522365Z"
    }
   },
   "outputs": [],
   "source": [
    "# This Python 3 environment comes with many helpful analytics libraries installed\n",
    "# It is defined by the kaggle/python Docker image: https://github.com/kaggle/docker-python\n",
    "# For example, here's several helpful packages to load\n",
    "\n",
    "import numpy as np # linear algebra\n",
    "import pandas as pd # data processing, CSV file I/O (e.g. pd.read_csv)\n",
    "\n",
    "# Input data files are available in the read-only \"../input/\" directory\n",
    "# For example, running this (by clicking run or pressing Shift+Enter) will list all files under the input directory\n",
    "\n",
    "import os\n",
    "#for dirname, _, filenames in os.walk('/kaggle/input'):\n",
    "#    for filename in filenames:\n",
    "#        print(os.path.join(dirname, filename))\n",
    "\n",
    "# You can write up to 20GB to the current directory (/kaggle/working/) that gets preserved as output when you create a version using \"Save & Run All\" \n",
    "# You can also write temporary files to /kaggle/temp/, but they won't be saved outside of the current session"
   ]
  },
  {
   "cell_type": "markdown",
   "metadata": {},
   "source": [
    "# Install require Lib, PVLib, Pyowm, Paramiko"
   ]
  },
  {
   "cell_type": "code",
   "execution_count": 33,
   "metadata": {
    "execution": {
     "iopub.execute_input": "2021-06-01T10:56:49.531267Z",
     "iopub.status.busy": "2021-06-01T10:56:49.530640Z",
     "iopub.status.idle": "2021-06-01T10:57:00.579351Z",
     "shell.execute_reply": "2021-06-01T10:57:00.578107Z",
     "shell.execute_reply.started": "2021-06-01T10:56:49.531218Z"
    }
   },
   "outputs": [],
   "source": [
    "#pip install pvlib"
   ]
  },
  {
   "cell_type": "code",
   "execution_count": 34,
   "metadata": {
    "execution": {
     "iopub.execute_input": "2021-06-01T10:57:00.581432Z",
     "iopub.status.busy": "2021-06-01T10:57:00.581084Z",
     "iopub.status.idle": "2021-06-01T10:57:08.457231Z",
     "shell.execute_reply": "2021-06-01T10:57:08.456123Z",
     "shell.execute_reply.started": "2021-06-01T10:57:00.581403Z"
    }
   },
   "outputs": [],
   "source": [
    "#pip install pyowm"
   ]
  },
  {
   "cell_type": "code",
   "execution_count": 35,
   "metadata": {
    "execution": {
     "iopub.execute_input": "2021-06-01T10:57:08.459131Z",
     "iopub.status.busy": "2021-06-01T10:57:08.458823Z",
     "iopub.status.idle": "2021-06-01T10:57:15.001899Z",
     "shell.execute_reply": "2021-06-01T10:57:15.000345Z",
     "shell.execute_reply.started": "2021-06-01T10:57:08.459101Z"
    }
   },
   "outputs": [],
   "source": [
    "#pip install paramiko"
   ]
  },
  {
   "cell_type": "markdown",
   "metadata": {},
   "source": [
    "# Import Require libraries"
   ]
  },
  {
   "cell_type": "code",
   "execution_count": 36,
   "metadata": {
    "execution": {
     "iopub.execute_input": "2021-06-01T10:57:15.006785Z",
     "iopub.status.busy": "2021-06-01T10:57:15.006443Z",
     "iopub.status.idle": "2021-06-01T10:57:15.013167Z",
     "shell.execute_reply": "2021-06-01T10:57:15.011608Z",
     "shell.execute_reply.started": "2021-06-01T10:57:15.006755Z"
    }
   },
   "outputs": [],
   "source": [
    "import numpy as np\n",
    "import matplotlib.pyplot as plt\n",
    "import pandas as pd\n",
    "import math\n",
    "from pathlib import Path\n",
    "import os\n",
    "import itertools\n",
    "import pytz"
   ]
  },
  {
   "cell_type": "code",
   "execution_count": 37,
   "metadata": {
    "execution": {
     "iopub.execute_input": "2021-06-01T10:57:15.017795Z",
     "iopub.status.busy": "2021-06-01T10:57:15.017274Z",
     "iopub.status.idle": "2021-06-01T10:57:17.091012Z",
     "shell.execute_reply": "2021-06-01T10:57:17.089968Z",
     "shell.execute_reply.started": "2021-06-01T10:57:15.017748Z"
    }
   },
   "outputs": [],
   "source": [
    "import torch\n",
    "import torch.nn as nn\n",
    "from torch.autograd import Variable\n",
    "from sklearn.preprocessing import MinMaxScaler, StandardScaler"
   ]
  },
  {
   "cell_type": "code",
   "execution_count": 38,
   "metadata": {
    "execution": {
     "iopub.execute_input": "2021-06-01T10:57:17.095381Z",
     "iopub.status.busy": "2021-06-01T10:57:17.095012Z",
     "iopub.status.idle": "2021-06-01T10:57:17.215750Z",
     "shell.execute_reply": "2021-06-01T10:57:17.214727Z",
     "shell.execute_reply.started": "2021-06-01T10:57:17.095350Z"
    }
   },
   "outputs": [],
   "source": [
    "from pvlib import location\n",
    "from pvlib import irradiance\n",
    "#from matplotlib import pyplot as plt"
   ]
  },
  {
   "cell_type": "markdown",
   "metadata": {},
   "source": [
    "# Define strcuture for the model"
   ]
  },
  {
   "cell_type": "code",
   "execution_count": 39,
   "metadata": {
    "execution": {
     "iopub.execute_input": "2021-06-01T10:57:17.217342Z",
     "iopub.status.busy": "2021-06-01T10:57:17.217024Z",
     "iopub.status.idle": "2021-06-01T10:57:17.231782Z",
     "shell.execute_reply": "2021-06-01T10:57:17.230944Z",
     "shell.execute_reply.started": "2021-06-01T10:57:17.217310Z"
    }
   },
   "outputs": [
    {
     "data": {
      "text/plain": [
       "__main__.LSTM"
      ]
     },
     "execution_count": 39,
     "metadata": {},
     "output_type": "execute_result"
    }
   ],
   "source": [
    "class LSTM(nn.Module):\n",
    "\n",
    "    def __init__(self, num_classes, input_size, hidden_size, num_layers,bidirectional):\n",
    "        super(LSTM, self).__init__()\n",
    "        \n",
    "        self.num_classes = num_classes\n",
    "        self.num_layers = num_layers\n",
    "        self.input_size = input_size\n",
    "        self.hidden_size = hidden_size\n",
    "        self.seq_length = seq_length\n",
    "        \n",
    "        self.lstm = nn.LSTM(input_size=input_size, hidden_size=hidden_size,\n",
    "                            num_layers=num_layers, batch_first=True)\n",
    "        \n",
    "        self.fc = nn.Linear(hidden_size, num_classes)\n",
    "\n",
    "    def forward(self, x):\n",
    "        h_0 = Variable(torch.zeros(\n",
    "            self.num_layers, x.size(0), self.hidden_size))\n",
    "        \n",
    "        c_0 = Variable(torch.zeros(\n",
    "            self.num_layers, x.size(0), self.hidden_size))\n",
    "        \n",
    "        # Propagate input through LSTM\n",
    "        ula, (h_out, _) = self.lstm(x, (h_0, c_0))\n",
    "        \n",
    "        h_out = h_out.view(-1, self.hidden_size)\n",
    "        \n",
    "        out = self.fc(h_out)\n",
    "        \n",
    "        return out\n",
    "LSTM"
   ]
  },
  {
   "cell_type": "markdown",
   "metadata": {},
   "source": [
    "# Load the model and Scaler"
   ]
  },
  {
   "cell_type": "markdown",
   "metadata": {},
   "source": [
    "### Load Model"
   ]
  },
  {
   "cell_type": "code",
   "execution_count": 40,
   "metadata": {
    "execution": {
     "iopub.execute_input": "2021-06-01T10:57:17.233501Z",
     "iopub.status.busy": "2021-06-01T10:57:17.232994Z",
     "iopub.status.idle": "2021-06-01T10:57:17.316011Z",
     "shell.execute_reply": "2021-06-01T10:57:17.315101Z",
     "shell.execute_reply.started": "2021-06-01T10:57:17.233466Z"
    }
   },
   "outputs": [
    {
     "data": {
      "text/plain": [
       "<All keys matched successfully>"
      ]
     },
     "execution_count": 40,
     "metadata": {},
     "output_type": "execute_result"
    }
   ],
   "source": [
    "#PATH = \"../input/pv-model/Solar_power_model.pt\"\n",
    "#PATH = \"../input/pv-model/Clear_sky_update.pt\"\n",
    "path = Path.cwd()\n",
    "PATH = \"Clear_sky_update.pt\"\n",
    "\n",
    "# Input parameters for the model structure\n",
    "\n",
    "input_size = 10\n",
    "hidden_size = 128\n",
    "num_layers = 1\n",
    "seq_length =24\n",
    "num_classes = 1\n",
    "bidirectional = True\n",
    "\n",
    "# Load\n",
    "device = torch.device('cpu')\n",
    "\n",
    "# Load\n",
    "device = torch.device('cpu')\n",
    "model = LSTM(num_classes, input_size, hidden_size, num_layers,bidirectional)\n",
    "model.load_state_dict(torch.load(PATH, map_location=device))\n",
    "\n",
    "# Load the model\n",
    "#model = LSTM(num_classes, input_size, hidden_size, num_layers,bidirectional)\n",
    "#model.load_state_dict(torch.load(PATH))\n",
    "#model.eval()"
   ]
  },
  {
   "cell_type": "markdown",
   "metadata": {},
   "source": [
    "### Load scaler"
   ]
  },
  {
   "cell_type": "code",
   "execution_count": 41,
   "metadata": {
    "execution": {
     "iopub.execute_input": "2021-06-01T10:57:17.317696Z",
     "iopub.status.busy": "2021-06-01T10:57:17.317405Z",
     "iopub.status.idle": "2021-06-01T10:57:17.344150Z",
     "shell.execute_reply": "2021-06-01T10:57:17.343058Z",
     "shell.execute_reply.started": "2021-06-01T10:57:17.317669Z"
    }
   },
   "outputs": [],
   "source": [
    "from joblib import dump, load\n",
    "\n",
    "# Load Scaler\n",
    "#sc_X=load('../input/pv-model/sc_X.bin')\n",
    "#sc_Y=load('../input/pv-model/sc_Y.bin')\n",
    "\n",
    "sc_X=load('scaler_X_Clear_sky_update.bin')\n",
    "sc_Y=load('scaler_Y_Clear_sky_update.bin')\n",
    "sc_W=load('scaler_W_Clear_sky_update.bin')"
   ]
  },
  {
   "cell_type": "markdown",
   "metadata": {},
   "source": [
    "## Weather API"
   ]
  },
  {
   "cell_type": "markdown",
   "metadata": {},
   "source": [
    "### Print hourly forecast for next 48 hours from weather API\n",
    "* Note that the time is in UTC (GMT + 0)"
   ]
  },
  {
   "cell_type": "markdown",
   "metadata": {},
   "source": [
    "# Log the Temperature,Cloud Wind and AirPressure forecast data"
   ]
  },
  {
   "cell_type": "code",
   "execution_count": 42,
   "metadata": {
    "execution": {
     "iopub.execute_input": "2021-06-01T10:57:17.346269Z",
     "iopub.status.busy": "2021-06-01T10:57:17.345725Z",
     "iopub.status.idle": "2021-06-01T10:57:17.391963Z",
     "shell.execute_reply": "2021-06-01T10:57:17.391019Z",
     "shell.execute_reply.started": "2021-06-01T10:57:17.346234Z"
    }
   },
   "outputs": [],
   "source": [
    "from pyowm.owm import OWM\n",
    "from pyowm.utils import timestamps\n",
    "from datetime import datetime, timedelta, timezone\n",
    "from pyowm.utils import timestamps, formatting\n",
    "\n",
    "def get_history_weather(key,pass_hours):\n",
    "    \n",
    "    \"\"\" Arg:\n",
    "        - key(str): key get from owm site\n",
    "        - pass_hours: number of pass hours data\n",
    "   \n",
    "    Returns:\n",
    "        - weather : dataframe with temperature,cloud and wind data of passs hours\n",
    "    \"\"\"\n",
    "    \n",
    "    #owm = OWM('1a4df9d4817c3d16e92b272d59531753')\n",
    "    owm = OWM(key)\n",
    "    mgr = owm.weather_manager()\n",
    "    \n",
    "    # what is the epoch for yesterday at this time?\n",
    "    \n",
    "    yesterday_epoch = formatting.to_UNIXtime(timestamps.yesterday())\n",
    "    one_call_yesterday = mgr.one_call_history(lat=51.98787601885725, lon=5.950209138832937, dt=yesterday_epoch)\n",
    "    \n",
    "    # today weather up to current time\n",
    "    \n",
    "    today = int((datetime.utcnow() - timedelta(hours=1)).replace(tzinfo=timezone.utc).timestamp())\n",
    "    #print(today)\n",
    "    #today = today.astimezone(pytz.utc)\n",
    "    one_call_today = mgr.one_call_history(lat=51.98787601885725, lon=5.950209138832937, dt=today)\n",
    "\n",
    "    #weather = pd.DataFrame(columns = ['time','temperature','cloud','wind','rain'])\n",
    "    \n",
    "    weather = pd.DataFrame(columns = ['temperature','cloud','wind','rain'])\n",
    "    \n",
    "    for i in range(len(one_call_yesterday.forecast_hourly)):\n",
    "\n",
    "        temp    = one_call_yesterday.forecast_hourly[i].ref_time\n",
    "        temp    = datetime.fromtimestamp(temp).strftime('%Y-%m-%d %H:%M:%S')\n",
    "        cloud   = one_call_yesterday.forecast_hourly[i].clouds\n",
    "        cloud   = np.rint(cloud*8/100)\n",
    "        temperature = one_call_yesterday.forecast_hourly[i].temperature('celsius')['temp']\n",
    "        wind   = one_call_yesterday.forecast_hourly[i].wind()['speed']\n",
    "\n",
    "        if one_call_yesterday.forecast_hourly[i].status == 'rain' or one_call_yesterday.forecast_hourly[i].status == 'Rain':\n",
    "            rain = 1\n",
    "        else: rain = 0\n",
    "\n",
    "        #weather = weather.append({'time': temp,'temperature': temperature,'cloud': cloud,\n",
    "        #                         'wind': wind,'rain': rain},ignore_index=True)\n",
    "        weather = weather.append({'temperature': temperature,'cloud': cloud,\n",
    "                                 'wind': wind,'rain': rain},ignore_index=True)\n",
    "\n",
    "    for i in range (len(one_call_today.forecast_hourly)):\n",
    "\n",
    "        temp    = one_call_today.forecast_hourly[i].ref_time\n",
    "        temp    = datetime.fromtimestamp(temp).strftime('%Y-%m-%d %H:%M:%S')\n",
    "        cloud   = one_call_today.forecast_hourly[i].clouds\n",
    "        cloud   = np.rint(cloud*8/100)\n",
    "        temperature = one_call_today.forecast_hourly[i].temperature('celsius')['temp']\n",
    "        wind   = one_call_today.forecast_hourly[i].wind()['speed']\n",
    "\n",
    "        if one_call_today.forecast_hourly[i].status == 'rain' or one_call_today.forecast_hourly[i].status == 'Rain':\n",
    "            rain = 1\n",
    "        else: rain = 0\n",
    "\n",
    "\n",
    "        weather = weather.append({'temperature': temperature,'cloud': cloud,\n",
    "                                 'wind': wind,'rain': rain},ignore_index=True)\n",
    "        \n",
    "    #weather['time'] = pd.to_datetime(weather['time'])\n",
    "    #weather= weather.set_index('time')\n",
    "    #weather['index'] = weather.index\n",
    "    #weather['index'] = weather['index'].apply(lambda x:x.to_pydatetime())\n",
    "    #weather['year']  = weather['index'].apply(lambda x:x.year)\n",
    "    #weather['month'] = weather['index'].apply(lambda x:x.month)\n",
    "    #weather['day']   = weather['index'].apply(lambda x:x.day)\n",
    "    #weather['hour']  = weather['index'].apply(lambda x:x.hour)\n",
    "    \n",
    "    weather = weather.tail(pass_hours)\n",
    "    weather.reset_index(drop=True, inplace=True)\n",
    "    return weather"
   ]
  },
  {
   "cell_type": "markdown",
   "metadata": {},
   "source": [
    "## Example get pass weather data"
   ]
  },
  {
   "cell_type": "code",
   "execution_count": 43,
   "metadata": {
    "execution": {
     "iopub.execute_input": "2021-06-01T10:57:17.393669Z",
     "iopub.status.busy": "2021-06-01T10:57:17.393315Z",
     "iopub.status.idle": "2021-06-01T10:57:18.663128Z",
     "shell.execute_reply": "2021-06-01T10:57:18.661888Z",
     "shell.execute_reply.started": "2021-06-01T10:57:17.393639Z"
    }
   },
   "outputs": [],
   "source": [
    "passweather = get_history_weather('1a4df9d4817c3d16e92b272d59531753',12)\n",
    "#passweather"
   ]
  },
  {
   "cell_type": "code",
   "execution_count": 44,
   "metadata": {
    "execution": {
     "iopub.execute_input": "2021-06-01T10:57:18.665327Z",
     "iopub.status.busy": "2021-06-01T10:57:18.664889Z",
     "iopub.status.idle": "2021-06-01T10:57:18.676309Z",
     "shell.execute_reply": "2021-06-01T10:57:18.674879Z",
     "shell.execute_reply.started": "2021-06-01T10:57:18.665282Z"
    }
   },
   "outputs": [],
   "source": [
    "def get_future_weather(key,future_hours):\n",
    "    \n",
    "    \"\"\" Arg:\n",
    "        - key(str): key get from owm site\n",
    "        - future_hours: number of future hours data\n",
    "   \n",
    "    Returns:\n",
    "        - weather : dataframe with temperature,cloud and wind data of future hours\n",
    "    \"\"\"\n",
    "    owm = OWM(key)\n",
    "    mgr = owm.weather_manager()\n",
    "    one_call_future = mgr.one_call(lat=51.98787601885725, lon=5.950209138832937)\n",
    "    \n",
    "\n",
    "    future_weather = pd.DataFrame(columns = ['temperature','cloud','wind','rain'])\n",
    "\n",
    "    for i in range(len(one_call_future.forecast_hourly)):\n",
    "\n",
    "        temp        = one_call_future.forecast_hourly[i].ref_time\n",
    "        temp        = datetime.fromtimestamp(temp).strftime('%Y-%m-%d %H:%M:%S')\n",
    "        #print(temp)\n",
    "        cloud       = one_call_future.forecast_hourly[i].clouds\n",
    "        cloud       = np.rint(cloud*8/100)\n",
    "        temperature = one_call_future.forecast_hourly[i].temperature('celsius')['temp']\n",
    "        wind        = one_call_future.forecast_hourly[i].wind()['speed']\n",
    "\n",
    "        if one_call_future.forecast_hourly[i].status == 'rain' or one_call_future.forecast_hourly[i].status == 'Rain':\n",
    "            rain = 1\n",
    "        else: rain = 0\n",
    "\n",
    "        future_weather = future_weather.append({'temperature': temperature,'cloud': cloud,\n",
    "                                                'wind': wind,'rain': rain},ignore_index=True)\n",
    "        \n",
    "    #weather['time'] = pd.to_datetime(weather['time'])\n",
    "    #weather= weather.set_index('time')\n",
    "    #weather['index'] = weather.index\n",
    "    #weather['index'] = weather['index'].apply(lambda x:x.to_pydatetime())\n",
    "    #weather['year']  = weather['index'].apply(lambda x:x.year)\n",
    "    #weather['month'] = weather['index'].apply(lambda x:x.month)\n",
    "    #weather['day']   = weather['index'].apply(lambda x:x.day)\n",
    "    #weather['hour']  = weather['index'].apply(lambda x:x.hour)\n",
    "    \n",
    "    #future_weather = future_weather[0:future_hours]\n",
    "    #future_weather.reset_index(drop=True, inplace=True)\n",
    "    #future_weather = future_weather.head(future_hours)\n",
    "    future_weather = future_weather[1:future_hours+1]\n",
    "    return future_weather"
   ]
  },
  {
   "cell_type": "markdown",
   "metadata": {},
   "source": [
    "## Example get future weatherdata"
   ]
  },
  {
   "cell_type": "code",
   "execution_count": 45,
   "metadata": {
    "execution": {
     "iopub.execute_input": "2021-06-01T10:57:18.678002Z",
     "iopub.status.busy": "2021-06-01T10:57:18.677648Z",
     "iopub.status.idle": "2021-06-01T10:57:19.412577Z",
     "shell.execute_reply": "2021-06-01T10:57:19.411322Z",
     "shell.execute_reply.started": "2021-06-01T10:57:18.677975Z"
    }
   },
   "outputs": [],
   "source": [
    "futureweather = get_future_weather('1a4df9d4817c3d16e92b272d59531753',24)\n",
    "#futureweather"
   ]
  },
  {
   "cell_type": "markdown",
   "metadata": {},
   "source": [
    "# Request measured data from the raspberry Pi"
   ]
  },
  {
   "cell_type": "markdown",
   "metadata": {},
   "source": [
    "## Make a request function"
   ]
  },
  {
   "cell_type": "code",
   "execution_count": 46,
   "metadata": {
    "execution": {
     "iopub.execute_input": "2021-06-01T10:57:19.414396Z",
     "iopub.status.busy": "2021-06-01T10:57:19.414036Z",
     "iopub.status.idle": "2021-06-01T10:57:19.516723Z",
     "shell.execute_reply": "2021-06-01T10:57:19.515690Z",
     "shell.execute_reply.started": "2021-06-01T10:57:19.414363Z"
    }
   },
   "outputs": [],
   "source": [
    "import os\n",
    "from pathlib import Path\n",
    "import os\n",
    "import sqlite3\n",
    "import paramiko\n",
    "import numpy as np\n",
    "import ftplib\n",
    "import ipywidgets as widgets\n",
    "from IPython.display import display\n",
    "\n",
    "def get_modbus(host_ip,port,username,password,pass_hours):\n",
    "     \n",
    "    \"\"\" Arg:\n",
    "        - host_ip  :     IP address of the data site\n",
    "        - port     :     Port number of the data site\n",
    "        - username :     \n",
    "        - password :\n",
    "        - pass_hours :   number of pass data point\n",
    "   \n",
    "    Returns:\n",
    "        - PV_data : dataframe with pass 12 hours solar power data in hourly rate.\n",
    "    \"\"\"\n",
    "    #host = \"80.113.19.27\"\n",
    "    #port = 22\n",
    "    #password = \"controlsystem\"\n",
    "    #username = \"pi\"\n",
    "\n",
    "    ssh = paramiko.SSHClient()\n",
    "    ssh.set_missing_host_key_policy(paramiko.AutoAddPolicy())\n",
    "    ssh.connect(host_ip, port, username, password)\n",
    "\n",
    "    ftp = ssh.open_sftp()\n",
    "    \n",
    "    data_d = ftp.chdir('/mnt/dav/Data')\n",
    "    cwd=ftp.getcwd()\n",
    "    path = Path.cwd()\n",
    "    \n",
    "    ftp.get(\"modbusData.db\",\"modbusData.db\",callback=None)\n",
    "    \n",
    "    conn = sqlite3.connect(\"modbusData.db\")\n",
    "    query = '''SELECT * from PV'''\n",
    "    PV_data= pd.read_sql_query(query,conn)\n",
    "    PV_data['Time']=pd.to_datetime(PV_data['Time'],unit='s')\n",
    "    \n",
    "    # PV data \n",
    "    PV_data= PV_data.sort_values(by='Time', ascending=True)\n",
    "    PV_data['Time']=pd.to_datetime(PV_data['Time'],unit='s')\n",
    "    PV_data = PV_data.set_index('Time')\n",
    "    PV_data=PV_data.resample('60min').mean()\n",
    "    PV_data = PV_data.tail(pass_hours)\n",
    "    \n",
    "    PV_data['index'] = PV_data.index\n",
    "    PV_data['index'] = PV_data['index'].apply(lambda x:x.to_pydatetime())\n",
    "    PV_data['year']  = PV_data['index'].apply(lambda x:x.year)\n",
    "    PV_data['month'] = PV_data['index'].apply(lambda x:x.month)\n",
    "    PV_data['day']   = PV_data['index'].apply(lambda x:x.day)\n",
    "    PV_data['hour']  = PV_data['index'].apply(lambda x:x.hour)\n",
    "    \n",
    "    return PV_data"
   ]
  },
  {
   "cell_type": "markdown",
   "metadata": {},
   "source": [
    "## Example get modbus data"
   ]
  },
  {
   "cell_type": "code",
   "execution_count": 47,
   "metadata": {
    "execution": {
     "iopub.execute_input": "2021-06-01T10:57:19.519040Z",
     "iopub.status.busy": "2021-06-01T10:57:19.518604Z",
     "iopub.status.idle": "2021-06-01T10:57:24.295871Z",
     "shell.execute_reply": "2021-06-01T10:57:24.294646Z",
     "shell.execute_reply.started": "2021-06-01T10:57:19.518995Z"
    }
   },
   "outputs": [],
   "source": [
    "host_ip = \"192.168.110.7\"\n",
    "port = 22\n",
    "password = \"controlsystem\"\n",
    "username = \"pi\"\n",
    "pass_hours = 12\n",
    "\n",
    "PV_data = get_modbus(host_ip,port,username,password,pass_hours)"
   ]
  },
  {
   "cell_type": "code",
   "execution_count": 48,
   "metadata": {},
   "outputs": [],
   "source": [
    "#PV_data"
   ]
  },
  {
   "cell_type": "markdown",
   "metadata": {},
   "source": [
    "# Funtion to get day of the year data"
   ]
  },
  {
   "cell_type": "markdown",
   "metadata": {},
   "source": [
    "## Make cyclic_data"
   ]
  },
  {
   "cell_type": "code",
   "execution_count": 49,
   "metadata": {
    "execution": {
     "iopub.execute_input": "2021-06-01T10:57:24.308716Z",
     "iopub.status.busy": "2021-06-01T10:57:24.308379Z",
     "iopub.status.idle": "2021-06-01T10:57:24.329076Z",
     "shell.execute_reply": "2021-06-01T10:57:24.327800Z",
     "shell.execute_reply.started": "2021-06-01T10:57:24.308673Z"
    }
   },
   "outputs": [],
   "source": [
    "def sin_transform(values):\n",
    "    return np.sin(2*np.pi*values/len(set(values)))\n",
    "\n",
    "def cos_transform(values):\n",
    "    return np.cos(2*np.pi*values/len(set(values)))\n",
    "\n",
    "\n",
    "def cyclic_data(tz,lat,lon,first_doy,first_dony):\n",
    "    \n",
    "    \"\"\" Arg:\n",
    "        - tz         :     time zone\n",
    "        - lat        :     latitude\n",
    "        - lon        :     longitude\n",
    "        - first_doy  :     first day of the year\n",
    "        - first_dony :     first day of next year\n",
    "   \n",
    "    Returns:\n",
    "        - clearsky   : dataframe with clear sky of the year and clyclic_data\n",
    "        \n",
    "        https://towardsdatascience.com/cyclical-features-encoding-its-about-time-ce23581845ca\n",
    "        https://ianlondon.github.io/blog/encoding-cyclical-features-24hour-time/\n",
    "        https://www.datasciencecentral.com/profiles/blogs/how-to-make-time-data-cyclical-for-prediction\n",
    "        \n",
    "    \"\"\"\n",
    "    # Create location object to store lat, lon, timezone\n",
    "    site = location.Location(lat, lon, tz=tz)\n",
    "\n",
    "    times = pd.date_range(start=first_doy, end=first_dony, freq='1H',tz=site.tz) #tz='UTC'\n",
    "    #print (idx.to_pydatetime())\n",
    "    idx =  pd.DataFrame(times.to_pydatetime(),columns =['Time'])\n",
    "    idx['year']  = idx['Time'].apply(lambda x:x.year)\n",
    "    idx['month'] = idx['Time'].apply(lambda x:x.month)\n",
    "    idx['day']   = idx['Time'].apply(lambda x:x.day)\n",
    "    idx['hour']  = idx['Time'].apply(lambda x:x.hour)\n",
    "\n",
    "    temp=np.zeros(len(idx['day']))\n",
    "    day=1\n",
    "    month=1\n",
    "    year=2021\n",
    "    doy=1\n",
    "\n",
    "    for i in range(len(idx['day'])):\n",
    "\n",
    "\n",
    "        if idx['month'][i] > month:\n",
    "            month = month + 1\n",
    "            day = 0\n",
    "\n",
    "        if idx['day'][i] > day:\n",
    "            day=day+1\n",
    "            doy = doy + 1\n",
    "\n",
    "        if idx['year'][i] > year:\n",
    "            year  =  year + 1\n",
    "            doy   = 1\n",
    "            month = 1\n",
    "            day   = 1\n",
    "        temp[i] = doy\n",
    "\n",
    "    idx['doy'] = temp\n",
    "\n",
    "    idx['dayofyear_sin'] = sin_transform(idx['doy'])\n",
    "    idx['dayofyear_cos'] = cos_transform(idx['doy'])\n",
    "    idx['hour_sin']      = sin_transform(idx['hour'])\n",
    "    idx['hour_cos']      = cos_transform(idx['hour'])\n",
    "\n",
    "    \n",
    "    #times    \n",
    "    clearsky = site.get_clearsky(times)\n",
    "    \n",
    "    # shift 1 hour up for correction   \n",
    "    clearsky['ghi'] = clearsky['ghi'].shift(-1)\n",
    "    clearsky['ghi'] = clearsky['ghi'].fillna(0)\n",
    "    \n",
    "    # drop dni and dhi\n",
    "    clearsky.drop(['dni','dhi'],axis=1, inplace=True) #updating the same dataframe by dropping two columnsclearsky2021.reset_index(inplace=True)\n",
    "    clearsky.reset_index(inplace=True)\n",
    "    clearsky['index'] = clearsky['index'].apply(lambda x:x.to_pydatetime())\n",
    "    clearsky['year']  = clearsky['index'].apply(lambda x:x.year)\n",
    "    clearsky['month'] = clearsky['index'].apply(lambda x:x.month)\n",
    "    clearsky['day']   = clearsky['index'].apply(lambda x:x.day)\n",
    "    clearsky['hour']  = clearsky['index'].apply(lambda x:x.hour)\n",
    "\n",
    "    cyclic_data = pd.merge(clearsky,idx, on=['year','month','day','hour'])\n",
    "    cyclic_data['ghi']=cyclic_data['ghi'].values*11.52\n",
    "    \n",
    "    return cyclic_data"
   ]
  },
  {
   "cell_type": "code",
   "execution_count": 50,
   "metadata": {
    "execution": {
     "iopub.execute_input": "2021-06-01T10:57:24.330867Z",
     "iopub.status.busy": "2021-06-01T10:57:24.330514Z",
     "iopub.status.idle": "2021-06-01T10:57:24.347909Z",
     "shell.execute_reply": "2021-06-01T10:57:24.346679Z",
     "shell.execute_reply.started": "2021-06-01T10:57:24.330835Z"
    }
   },
   "outputs": [],
   "source": [
    "def get_current_cyclic_data(cyclic_data,solar_data):\n",
    "    \n",
    "    \"\"\" Arg:\n",
    "        - cyclic_data         :     cyclic data\n",
    "        - solar_data          :     PV input data\n",
    "      \n",
    "    Returns:\n",
    "        - pass_cyclic   : get n hours (the number of hours = number of pass PV hours) \n",
    "                          to current time of cyclic data    \n",
    "    \"\"\"\n",
    "   \n",
    "    current_cyclic = pd.merge(solar_data,cyclic_, on=['year','month','day','hour'])\n",
    "    current_cyclic.drop(current_cyclic.columns.difference(['dayofyear_sin',\n",
    "                                                           'dayofyear_cos','hour_sin',\n",
    "                                                           'hour_cos','ghi']), 1, inplace=True)\n",
    "    \n",
    "    current_cyclic = current_cyclic[[\"dayofyear_sin\", \"dayofyear_cos\", \n",
    "                                     \"hour_sin\",\"hour_cos\",\"ghi\"]]\n",
    "    \n",
    "    return current_cyclic\n"
   ]
  },
  {
   "cell_type": "markdown",
   "metadata": {},
   "source": [
    "## example get Current cyclicdata "
   ]
  },
  {
   "cell_type": "code",
   "execution_count": 51,
   "metadata": {
    "execution": {
     "iopub.execute_input": "2021-06-01T10:57:24.349955Z",
     "iopub.status.busy": "2021-06-01T10:57:24.349503Z",
     "iopub.status.idle": "2021-06-01T10:57:25.011332Z",
     "shell.execute_reply": "2021-06-01T10:57:25.010029Z",
     "shell.execute_reply.started": "2021-06-01T10:57:24.349922Z"
    }
   },
   "outputs": [
    {
     "data": {
      "text/html": [
       "<div>\n",
       "<style scoped>\n",
       "    .dataframe tbody tr th:only-of-type {\n",
       "        vertical-align: middle;\n",
       "    }\n",
       "\n",
       "    .dataframe tbody tr th {\n",
       "        vertical-align: top;\n",
       "    }\n",
       "\n",
       "    .dataframe thead th {\n",
       "        text-align: right;\n",
       "    }\n",
       "</style>\n",
       "<table border=\"1\" class=\"dataframe\">\n",
       "  <thead>\n",
       "    <tr style=\"text-align: right;\">\n",
       "      <th></th>\n",
       "      <th>dayofyear_sin</th>\n",
       "      <th>dayofyear_cos</th>\n",
       "      <th>hour_sin</th>\n",
       "      <th>hour_cos</th>\n",
       "      <th>ghi</th>\n",
       "    </tr>\n",
       "  </thead>\n",
       "  <tbody>\n",
       "    <tr>\n",
       "      <th>0</th>\n",
       "      <td>0.425</td>\n",
       "      <td>-0.905193</td>\n",
       "      <td>-0.258819</td>\n",
       "      <td>0.965926</td>\n",
       "      <td>0.0</td>\n",
       "    </tr>\n",
       "  </tbody>\n",
       "</table>\n",
       "</div>"
      ],
      "text/plain": [
       "   dayofyear_sin  dayofyear_cos  hour_sin  hour_cos  ghi\n",
       "0          0.425      -0.905193 -0.258819  0.965926  0.0"
      ]
     },
     "execution_count": 51,
     "metadata": {},
     "output_type": "execute_result"
    }
   ],
   "source": [
    "tz = 'UTC'\n",
    "lat, lon = 51.98787601885725, 5.950209138832937\n",
    "first_doy= '1/1/2021'\n",
    "first_dony = '01/01/2022'\n",
    "\n",
    "# get cyclic data\n",
    "\n",
    "cyclic_ = cyclic_data(tz,lat,lon,first_doy,first_dony)\n",
    "\n",
    "# get current \n",
    "current_c_data = get_current_cyclic_data(cyclic_,PV_data)\n",
    "current_c_data.head(1)"
   ]
  },
  {
   "cell_type": "code",
   "execution_count": 52,
   "metadata": {},
   "outputs": [],
   "source": [
    "#current_c_data"
   ]
  },
  {
   "cell_type": "code",
   "execution_count": 53,
   "metadata": {
    "execution": {
     "iopub.execute_input": "2021-06-01T10:57:25.013166Z",
     "iopub.status.busy": "2021-06-01T10:57:25.012716Z",
     "iopub.status.idle": "2021-06-01T10:57:25.024700Z",
     "shell.execute_reply": "2021-06-01T10:57:25.023558Z",
     "shell.execute_reply.started": "2021-06-01T10:57:25.013121Z"
    }
   },
   "outputs": [],
   "source": [
    "import pytz\n",
    "\n",
    "def get_future_cyclic_data(cyclic_data,hours):\n",
    "    \n",
    "    \"\"\" Arg:\n",
    "    \n",
    "        - cyclic_data         :     cyclic_data\n",
    "        - hours               :     number of future data\n",
    "      \n",
    "    Returns:\n",
    "        - future_cyclic_data  : get n hours  of future cyclic data    \n",
    "    \"\"\"\n",
    "    \n",
    "    #hours =24\n",
    "    doy_temp = pd.DataFrame(columns = ['temp'])\n",
    "    future_hours = []\n",
    "\n",
    "    for i in range(hours):\n",
    "\n",
    "        temp = datetime.utcnow().replace(microsecond=0, second=0, minute=0) + timedelta(hours=i+1)# time GMT+2\n",
    "        future_hours = np.append(future_hours,temp)\n",
    "        doy_temp.loc[future_hours[i]]= 0\n",
    "\n",
    "        doy_temp['index'] = doy_temp.index\n",
    "        doy_temp['index'] = doy_temp['index'].apply(lambda x:x.to_pydatetime())\n",
    "        doy_temp['year']  = doy_temp['index'].apply(lambda x:x.year)\n",
    "        doy_temp['month'] = doy_temp['index'].apply(lambda x:x.month)\n",
    "        doy_temp['day']   = doy_temp['index'].apply(lambda x:x.day)\n",
    "        doy_temp['hour']  = doy_temp['index'].apply(lambda x:x.hour)\n",
    "\n",
    "    future_cyclic_data = pd.merge(doy_temp, cyclic_data, on=['year','month','day','hour'])\n",
    "    \n",
    "    future_cyclic_data.drop(future_cyclic_data.columns.difference(['dayofyear_sin','dayofyear_cos',\n",
    "                                                                   'hour_sin','hour_cos','ghi']), 1, inplace=True)\n",
    "    \n",
    "    future_cyclic_data = future_cyclic_data[[\"dayofyear_sin\", \"dayofyear_cos\", \n",
    "                                             \"hour_sin\",\"hour_cos\",\"ghi\"]]\n",
    "    #future_data.head(1)\n",
    "    \n",
    "    return future_cyclic_data"
   ]
  },
  {
   "cell_type": "markdown",
   "metadata": {},
   "source": [
    "## Example get future cyclic data"
   ]
  },
  {
   "cell_type": "code",
   "execution_count": 54,
   "metadata": {
    "execution": {
     "iopub.execute_input": "2021-06-01T10:57:25.026540Z",
     "iopub.status.busy": "2021-06-01T10:57:25.026151Z",
     "iopub.status.idle": "2021-06-01T10:57:25.215855Z",
     "shell.execute_reply": "2021-06-01T10:57:25.214739Z",
     "shell.execute_reply.started": "2021-06-01T10:57:25.026486Z"
    }
   },
   "outputs": [
    {
     "data": {
      "text/html": [
       "<div>\n",
       "<style scoped>\n",
       "    .dataframe tbody tr th:only-of-type {\n",
       "        vertical-align: middle;\n",
       "    }\n",
       "\n",
       "    .dataframe tbody tr th {\n",
       "        vertical-align: top;\n",
       "    }\n",
       "\n",
       "    .dataframe thead th {\n",
       "        text-align: right;\n",
       "    }\n",
       "</style>\n",
       "<table border=\"1\" class=\"dataframe\">\n",
       "  <thead>\n",
       "    <tr style=\"text-align: right;\">\n",
       "      <th></th>\n",
       "      <th>dayofyear_sin</th>\n",
       "      <th>dayofyear_cos</th>\n",
       "      <th>hour_sin</th>\n",
       "      <th>hour_cos</th>\n",
       "      <th>ghi</th>\n",
       "    </tr>\n",
       "  </thead>\n",
       "  <tbody>\n",
       "    <tr>\n",
       "      <th>0</th>\n",
       "      <td>0.409356</td>\n",
       "      <td>-0.912375</td>\n",
       "      <td>0.258819</td>\n",
       "      <td>-0.965926</td>\n",
       "      <td>9719.497658</td>\n",
       "    </tr>\n",
       "  </tbody>\n",
       "</table>\n",
       "</div>"
      ],
      "text/plain": [
       "   dayofyear_sin  dayofyear_cos  hour_sin  hour_cos          ghi\n",
       "0       0.409356      -0.912375  0.258819 -0.965926  9719.497658"
      ]
     },
     "execution_count": 54,
     "metadata": {},
     "output_type": "execute_result"
    }
   ],
   "source": [
    "future_cyclic_data = get_future_cyclic_data(cyclic_,24)\n",
    "future_cyclic_data.head(1)"
   ]
  },
  {
   "cell_type": "code",
   "execution_count": 55,
   "metadata": {},
   "outputs": [],
   "source": [
    "#future_cyclic_data"
   ]
  },
  {
   "cell_type": "markdown",
   "metadata": {},
   "source": [
    "## Normalize the datas into the same range for model inputs.\n",
    "* Power is in the range of 1000 wat\n",
    "* Temperature is in the range of -10 to 40 degree.\n",
    "*  Cloud cover is in the range from 0 to 8.\n",
    "* Wind speed in m/s\n",
    "* Air pressrure in Pa\n",
    "\n",
    "They need to be converted to the same range before feeding to the model."
   ]
  },
  {
   "cell_type": "markdown",
   "metadata": {},
   "source": [
    "## Put everything together for the prediction"
   ]
  },
  {
   "cell_type": "code",
   "execution_count": 56,
   "metadata": {
    "execution": {
     "iopub.execute_input": "2021-06-01T10:57:25.229680Z",
     "iopub.status.busy": "2021-06-01T10:57:25.229388Z",
     "iopub.status.idle": "2021-06-01T10:57:25.248992Z",
     "shell.execute_reply": "2021-06-01T10:57:25.248221Z",
     "shell.execute_reply.started": "2021-06-01T10:57:25.229653Z"
    }
   },
   "outputs": [],
   "source": [
    "import time\n",
    "\n",
    "def waitUntil(condition): #defines function\n",
    "    wU = True\n",
    "    while wU == True:\n",
    "        if condition: #checks the condition\n",
    "            print(condition)\n",
    "            break\n",
    "            #output\n",
    "            wU = False\n",
    "        time.sleep(60*10) #waits 60s for preformance\n",
    "\n",
    "#waitUntil(len(PV_data['P1']) >=12) #runs function (output MUST be another function)"
   ]
  },
  {
   "cell_type": "code",
   "execution_count": 57,
   "metadata": {
    "execution": {
     "iopub.execute_input": "2021-06-01T10:57:25.250194Z",
     "iopub.status.busy": "2021-06-01T10:57:25.249912Z",
     "iopub.status.idle": "2021-06-01T10:57:25.265818Z",
     "shell.execute_reply": "2021-06-01T10:57:25.264564Z",
     "shell.execute_reply.started": "2021-06-01T10:57:25.250154Z"
    }
   },
   "outputs": [
    {
     "data": {
      "text/plain": [
       "(12, 5)"
      ]
     },
     "execution_count": 57,
     "metadata": {},
     "output_type": "execute_result"
    }
   ],
   "source": [
    "current_c_data.shape"
   ]
  },
  {
   "cell_type": "code",
   "execution_count": 58,
   "metadata": {
    "execution": {
     "iopub.execute_input": "2021-06-01T10:57:25.267804Z",
     "iopub.status.busy": "2021-06-01T10:57:25.267494Z",
     "iopub.status.idle": "2021-06-01T10:57:25.422938Z",
     "shell.execute_reply": "2021-06-01T10:57:25.421623Z",
     "shell.execute_reply.started": "2021-06-01T10:57:25.267773Z"
    }
   },
   "outputs": [],
   "source": [
    "Power = PV_data['P1'].values    \n",
    "Power = np.reshape(Power, (-1, 1))[0:24]\n",
    "Power = np.nan_to_num(Power)\n",
    "\n",
    "# Stack Power, Temperaure and Cloud data together.\n",
    "input_data = np.hstack((Power,passweather,current_c_data))\n",
    "input_data[:,9] = input_data[:,9]*(1-(input_data[:,2]/9 * input_data[:,4]))\n",
    "input_data = sc_X.transform(input_data)\n",
    "input_data = input_data.reshape((1,input_data.shape[0], input_data.shape[1]))\n",
    "\n",
    "# Convert data into torch tensor \n",
    "input_data = Variable(torch.Tensor(np.array(input_data)))\n",
    "\n",
    "# Weather data\n",
    "Weather = np.hstack((futureweather,future_cyclic_data))\n",
    "Weather[:,8] = Weather[:,8]*(1-(Weather[:,1]/9 * Weather[:,3]))\n",
    "Weather = sc_W.transform(Weather)\n",
    "Weather = Variable(torch.Tensor(np.array(Weather)))\n",
    "\n",
    "#Create an empty array\n",
    "predict =np.array([])\n",
    "\n",
    "# Define number of prediction hours.\n",
    "predict_hour = 4\n",
    "\n",
    "for i in range(predict_hour): # The number of prediction steps\n",
    "    \n",
    "    # call the model for predicting the Solar power in the next hour.\n",
    "    \n",
    "    Predic_P    = model(input_data)\n",
    "    \n",
    "    # Use the predicted value to predict the next steps (2nd,3rd....) hours\n",
    "    \n",
    "    if i < len(Weather):\n",
    "        #Predic_W = Weather[0:i+1]\n",
    "        Predic_W = Weather[i]\n",
    "    else:\n",
    "        Predic_W = Variable(torch.Tensor(np.array([0, 0,0])))\n",
    "    \n",
    "    # Add the predicted values to the input set for the next prediction points.\n",
    "    # Remove the 1st row, return to 24 points input\n",
    "    \n",
    "    new_input_data =  torch.vstack((input_data[0,:,0:11],torch.cat((Predic_P[0],Predic_W),0)))\n",
    "    new_input_data =  new_input_data[torch.arange (new_input_data.size (0))!=0]\n",
    "    \n",
    "    input_data[0] = new_input_data\n",
    "    #print(input_data[0,-1,:])\n",
    "    \n",
    "    # Add all prediction value together. \n",
    "    Predic_P = Predic_P.detach().numpy()  \n",
    "    #print(Predic_P)\n",
    "    predict = np.append(predict,Predic_P)   "
   ]
  },
  {
   "cell_type": "markdown",
   "metadata": {},
   "source": [
    "# Plot the prediction"
   ]
  },
  {
   "cell_type": "code",
   "execution_count": 59,
   "metadata": {
    "execution": {
     "iopub.status.busy": "2021-06-01T10:57:25.423849Z",
     "iopub.status.idle": "2021-06-01T10:57:25.424349Z"
    }
   },
   "outputs": [
    {
     "name": "stdout",
     "output_type": "stream",
     "text": [
      "7624.050700289643\n"
     ]
    },
    {
     "data": {
      "image/png": "[encoded data removed]",
      "text/plain": [
       "<Figure size 1440x432 with 1 Axes>"
      ]
     },
     "metadata": {
      "needs_background": "light"
     },
     "output_type": "display_data"
    }
   ],
   "source": [
    "#predict = np.append(predict,Predic_P)\n",
    "#plt.plot(PV_data['P1'][20:24],label='meaured')\n",
    "\n",
    "predict_tf= np.reshape(predict, (len(predict), 1))\n",
    "predict_tf = sc_Y.inverse_transform(predict_tf)\n",
    "predict_tf = np.append(PV_data['P1'].values,predict_tf)\n",
    "# Solar power always > 0\n",
    "predict_tf[predict_tf < 0] = 0\n",
    "\n",
    "plt.figure(figsize=(20,6)) #plotting\n",
    "plt.plot(predict_tf,label='predicted')\n",
    "plt.plot(PV_data['P1'].values[0:len(PV_data['P1'])],'r',label='meaured')\n",
    "#plt.plot(predict_c[0:-1],'--',label='predicted_')\n",
    "#plt.xlim([20,28])\n",
    "plt.legend()\n",
    "plt.show\n",
    "print(predict_tf[-2])"
   ]
  },
  {
   "cell_type": "markdown",
   "metadata": {},
   "source": [
    "# Add future datetime for visulization, the data time is in "
   ]
  },
  {
   "cell_type": "code",
   "execution_count": 60,
   "metadata": {
    "execution": {
     "iopub.status.busy": "2021-06-01T10:57:25.425511Z",
     "iopub.status.idle": "2021-06-01T10:57:25.425976Z"
    }
   },
   "outputs": [
    {
     "name": "stdout",
     "output_type": "stream",
     "text": [
      "2021-06-07 11:00:00\n",
      "2021-06-07 12:00:00\n",
      "2021-06-07 13:00:00\n",
      "2021-06-07 14:00:00\n"
     ]
    },
    {
     "data": {
      "text/plain": [
       "[<matplotlib.lines.Line2D at 0x1d36f1439a0>]"
      ]
     },
     "execution_count": 60,
     "metadata": {},
     "output_type": "execute_result"
    },
    {
     "data": {
      "image/png": "[encoded data removed]",
      "text/plain": [
       "<Figure size 1440x360 with 1 Axes>"
      ]
     },
     "metadata": {
      "needs_background": "light"
     },
     "output_type": "display_data"
    }
   ],
   "source": [
    "from datetime import datetime, timedelta\n",
    "future_hours = []\n",
    "PV_data_predict = PV_data['P1'].copy()\n",
    "\n",
    "ghidata = current_c_data['ghi'].copy()\n",
    "ghidata.index = PV_data.index\n",
    "\n",
    "#future_hours = datetime.now().replace(microsecond=0, second=0, minute=0) + timedelta(hours=i+1)\n",
    "#future_hours = np.append(future_hours,future_hours)\n",
    "\n",
    "for i in range(predict_hour):\n",
    "    temp = datetime.utcnow().replace(microsecond=0, second=0, minute=0) + timedelta(hours=i+1)\n",
    "    #temp = temp.astimezone(pytz.utc)\n",
    "    future_hours = np.append(future_hours,temp)\n",
    "    #PV_data_preidct.loc[future_hours[i]]= predict_tf[-1-i]\n",
    "    PV_data_predict.loc[future_hours[i]]= predict_tf[-predict_hour+i]\n",
    "    ghidata.loc[future_hours[i]] = future_cyclic_data['ghi'][i]\n",
    "    print(future_hours[i])\n",
    "    \n",
    "plt.figure(figsize=(20,5)) #plotting\n",
    "plt.plot(PV_data_predict.loc['2021-04-12 09:00:00':,],label='predicted')\n",
    "plt.plot(PV_data['P1'].loc['2021-04-12 09:00:00':,],'r',label='meaured')\n",
    "plt.plot(ghidata,'o',label='Clear_sky')"
   ]
  },
  {
   "cell_type": "markdown",
   "metadata": {},
   "source": [
    "# Make a Loop which updated every 5 minutes\n",
    "* Press the Power button to run"
   ]
  },
  {
   "cell_type": "code",
   "execution_count": 61,
   "metadata": {
    "execution": {
     "iopub.execute_input": "2021-06-01T11:09:16.283527Z",
     "iopub.status.busy": "2021-06-01T11:09:16.283106Z",
     "iopub.status.idle": "2021-06-01T11:09:16.346547Z",
     "shell.execute_reply": "2021-06-01T11:09:16.345383Z",
     "shell.execute_reply.started": "2021-06-01T11:09:16.283490Z"
    }
   },
   "outputs": [
    {
     "data": {
      "application/vnd.jupyter.widget-view+json": {
       "model_id": "39f49984dc9b4062ac474703ad438d2c",
       "version_major": 2,
       "version_minor": 0
      },
      "text/plain": [
       "Button(description='Power', style=ButtonStyle())"
      ]
     },
     "metadata": {},
     "output_type": "display_data"
    },
    {
     "data": {
      "application/vnd.jupyter.widget-view+json": {
       "model_id": "f2d3c3f315f24aa38a3154b5b2ab90cf",
       "version_major": 2,
       "version_minor": 0
      },
      "text/plain": [
       "Output()"
      ]
     },
     "metadata": {},
     "output_type": "display_data"
    }
   ],
   "source": [
    "import time\n",
    "import pylab as pl\n",
    "from IPython import display as cleardisplay\n",
    "\n",
    "import ipywidgets as widgets\n",
    "from IPython.display import display\n",
    "\n",
    "button = widgets.Button(description=\"Power\")\n",
    "output = widgets.Output()\n",
    "\n",
    "display(button, output)\n",
    "updatetime = 60*5\n",
    "\n",
    "#future_data = future_data[[\"dayofyear_sin\", \"dayofyear_cos\", \n",
    "#                           \"hour_sin\",\"hour_cos\",\"ghi\"]]\n",
    "\n",
    "save_data   = pd.DataFrame(columns = ['Predict_Power',\n",
    "                                      'Temperature','Cloud','Wind', \n",
    "                                      'Rain','dayofyear_sin',\n",
    "                                      'dayofyear_cos','hour_sin',\n",
    "                                      'hour_cos','ghi'])\n",
    "\n",
    "def on_button_clicked(b):\n",
    "    count =0\n",
    "    save_ghi         = pd.DataFrame(columns = ['Power','ghi'])\n",
    "    save_all_data    = pd.DataFrame(columns = ['Power','Predict','ghi'])\n",
    "    current_hour = datetime.utcnow().hour\n",
    "    \n",
    "    # modbus \n",
    "    host_ip = \"192.168.110.7\"\n",
    "    port = 22\n",
    "    password = \"controlsystem\"\n",
    "    username = \"pi\"\n",
    "    \n",
    "    # cyclic data \n",
    "    tz = 'UTC'\n",
    "    lat, lon = 51.98787601885725, 5.950209138832937\n",
    "    first_doy= '1/1/2021'\n",
    "    first_dony = '01/01/2022'\n",
    "    \n",
    "    # weather key\n",
    "    key ='1a4df9d4817c3d16e92b272d59531753'\n",
    "    pass_hours = 12\n",
    "    future_data = 24\n",
    "    # Define predic_hour\n",
    "    predict_hour = 4\n",
    "    \n",
    "    with output:\n",
    "        \n",
    "        while True:\n",
    "                \n",
    "            #count =0\n",
    "            start = time.time()\n",
    "            time.process_time()   \n",
    "            elapsed = 0\n",
    "            n=0\n",
    "            pl.figure(figsize=(20,5))\n",
    "            \n",
    "            while elapsed < time.process_time():\n",
    "                elapsed = time.time() - start\n",
    "                # Add x and y to lists\n",
    "                if elapsed >= n*updatetime:\n",
    "                    #print( n*updatetime)\n",
    "                    \n",
    "                    # Get pass weather data\n",
    "                    passweather = get_history_weather(key,pass_hours)\n",
    "                 \n",
    "                    # Get future weather data\n",
    "                    futureweather = get_future_weather(key,future_data)\n",
    "                   \n",
    "                    \n",
    "                   # Get PV measure data                \n",
    "                    PV_data = get_modbus(host_ip,port,username,password,pass_hours)\n",
    "                    print(len(PV_data['P1']))\n",
    "                    waitUntil(len(PV_data['P1']) >=12) #runs function (output MUST be another function)\n",
    "                    \n",
    "                    # get cyclic data\n",
    "                    cyclic_ = cyclic_data(tz,lat,lon,first_doy,first_dony)\n",
    "                    \n",
    "                    # get current cyclic data\n",
    "                    current_c_data = get_current_cyclic_data(cyclic_,PV_data)\n",
    "                    \n",
    "                    # get future cyclic data\n",
    "                    future_cyclic_data = get_future_cyclic_data(cyclic_,future_data)\n",
    "                                        \n",
    "                    # Prepare data for prediction\n",
    "                    Power = PV_data['P1'].values\n",
    "                    Power = np.reshape(Power, (-1, 1))[0:future_data]\n",
    "                    Power = np.nan_to_num(Power)\n",
    "                    \n",
    "                    # Stack Power, weather and cyclic data together.\n",
    "                    input_data = np.hstack((Power,passweather,current_c_data))\n",
    "                    input_data[:,9] = input_data[:,9]*(1-(input_data[:,2]/9 * input_data[:,4]))\n",
    "                    input_data = sc_X.transform(input_data)\n",
    "                    input_data = input_data.reshape((1,input_data.shape[0], input_data.shape[1]))\n",
    "\n",
    "                    # Convert data into torch tensor \n",
    "                    input_data = Variable(torch.Tensor(np.array(input_data)))\n",
    "\n",
    "                    # Future Weather and cyclic data\n",
    "                    \n",
    "                    Weather = np.hstack((futureweather,future_cyclic_data))\n",
    "                    Weather[:,8] = Weather[:,8]*(1-(Weather[:,1]/9 * Weather[:,3]))\n",
    "                    Weather = sc_W.transform(Weather)\n",
    "                    Weather = Variable(torch.Tensor(np.array(Weather)))\n",
    "\n",
    "                    # The last data point is the current weather condition.\n",
    "                    #input_data[0,-1,1:11]= Weather[0]\n",
    "                    #Predic_W = Weather[0]\n",
    "\n",
    "                    #Create an empty array\n",
    "                    predict =np.array([])\n",
    "\n",
    "                    # Define number of prediction hours.\n",
    "                    predict_hour = 4\n",
    "\n",
    "                    for i in range(predict_hour): # The number of prediction steps\n",
    "\n",
    "                        # call the model for predicting the Solar power in the next hour.\n",
    "\n",
    "                        Predic_P    = model(input_data)\n",
    "\n",
    "                        # Use the predicted value to predict the next steps (2nd,3rd....) hours\n",
    "\n",
    "                        if i < len(Weather):\n",
    "                            #Predic_W = Weather[0:i+1]\n",
    "                            Predic_W = Weather[i] #+1\n",
    "                        else:\n",
    "                            Predic_W = Variable(torch.Tensor(np.array([0, 0,0])))\n",
    "\n",
    "                        # Add the predicted values to the input set for the next prediction points.\n",
    "                        # Remove the 1st row, return to 24 points input\n",
    "\n",
    "                        new_input_data =  torch.vstack((input_data[0,:,0:11],torch.cat((Predic_P[0],Predic_W),0)))\n",
    "                        new_input_data =  new_input_data[torch.arange(new_input_data.size (0))!=0]\n",
    "\n",
    "                        input_data[0] = new_input_data\n",
    "                        #print(input_data[0,-1,:])\n",
    "\n",
    "                        # Add all prediction value together. \n",
    "                        Predic_P = Predic_P.detach().numpy()  \n",
    "                        #print(Predic_P)\n",
    "                        predict = np.append(predict,Predic_P)                    \n",
    "                    \n",
    "                    predict_tf= np.reshape(predict, (len(predict), 1))\n",
    "                    predict_tf = sc_Y.inverse_transform(predict_tf)         \n",
    "                    # Solar power always > 0\n",
    "                    predict_tf[predict_tf < 0] = 0\n",
    "\n",
    "\n",
    "                    future_hours = []\n",
    "                    PV_data_predict = PV_data['P1'].copy()\n",
    "                    \n",
    "                    ghi_data = current_c_data['ghi'].copy()\n",
    "                    ghi_data.index = PV_data.index\n",
    "                    #print(ghi_data,PV_data['P1'],C_data['ghi'])\n",
    "                        #future_hours = datetime.now().replace(microsecond=0, second=0, minute=0) + timedelta(hours=i+1)\n",
    "                        #future_hours = np.append(future_hours,future_hours)\n",
    "\n",
    "                    for i in range(predict_hour):\n",
    "                        \n",
    "                        temp = datetime.utcnow().replace(microsecond=0, second=0, minute=0) + timedelta(hours=i+1)\n",
    "                        future_hours = np.append(future_hours,temp)\n",
    "                        PV_data_predict.loc[future_hours[i]]= predict_tf[-predict_hour+i]\n",
    "                        ghi_data.loc[future_hours[i]] = future_cyclic_data['ghi'][i]\n",
    "                   \n",
    "                        #--------------------------------------\n",
    "                    \n",
    "                    pl.clf()\n",
    "                    \n",
    "                    #save_ghi['Power']        = PV_data['P1']\n",
    "                    #save_ghi['ghi']          = C_data['ghi'].values\n",
    "\n",
    "                        #plt.figure(figsize=(15,6)) #plotting\n",
    "                    plt.plot(PV_data_predict.loc['2021-04-12 09:00:00':,],label='predicted')\n",
    "                    plt.plot(PV_data['P1'].loc['2021-04-12 09:00:00':,],'r',label='meaured')\n",
    "                    plt.plot(ghi_data,'o',label='Clear_sky')\n",
    "                    plt.grid()\n",
    "                    plt.legend(loc=\"best\",prop={'size':14})\n",
    "                    plt.xlabel(\"Time\")\n",
    "                    plt.ylabel(\"Solar Power [W/m2]\")\n",
    "                        #pl.plot(xs,ys)\n",
    "                        #pl.plot(xs,ys2)\n",
    "                    cleardisplay.clear_output(wait=True)\n",
    "                    cleardisplay.display(pl.gcf())\n",
    "                    \n",
    "                    time_now = datetime.utcnow().replace(microsecond=0, second=0, minute=0) + timedelta(hours=0)\n",
    "                    # Remember to shift predicted hour by one row up\n",
    "                    \n",
    "                    save_all_data.loc[time_now]= [PV_data['P1'].values[-1],\n",
    "                                                  predict_tf.flatten()[-predict_hour],\n",
    "                                                  current_c_data['ghi'].values[-1]]\n",
    "                    \n",
    "                    \n",
    "                    save_data.loc[future_hours[0]]= [ predict_tf.flatten()[-predict_hour], \n",
    "                                                     futureweather['temperature'][1],futureweather['cloud'][1],\n",
    "                                                     futureweather['wind'][1],futureweather['rain'][1],\n",
    "                                                     future_cyclic_data.values[0][0],\n",
    "                                                     future_cyclic_data.values[0][1],\n",
    "                                                     future_cyclic_data.values[0][2],\n",
    "                                                     future_cyclic_data.values[0][3],\n",
    "                                                     future_cyclic_data.values[0][4]]\n",
    "                    \n",
    "                    save_ghi['Power']        = PV_data['P1'].values\n",
    "                    save_ghi['ghi']          = current_c_data['ghi'].values\n",
    "                    #save_ghi.loc[future_hours[0]]     = [0,0,predict_tf[-4]]\n",
    "                    #save_ghi = save_ghi.append(save_ghi) \n",
    "                    \n",
    "\n",
    "                    #save_ghi.drop_duplicates()\n",
    "                    \n",
    "                    PV_data_predict.loc['2021-04-12 09:00:00':,].to_csv('all_predicted_hours.csv')\n",
    "                    \n",
    "                    save_all_data.to_csv('data.csv')\n",
    "                    save_data.to_csv('Solar_Power_prediction.csv')\n",
    "                    save_ghi.to_csv('ghi.csv')\n",
    "                    PV_data['P1'].to_csv('measure_data.csv')\n",
    "                        \n",
    "                time.sleep(updatetime)\n",
    "            pl.close()\n",
    "            \n",
    "\n",
    "button.on_click(on_button_clicked)"
   ]
  },
  {
   "cell_type": "code",
   "execution_count": null,
   "metadata": {},
   "outputs": [],
   "source": []
  },
  {
   "cell_type": "code",
   "execution_count": null,
   "metadata": {},
   "outputs": [],
   "source": []
  }
 ],
 "metadata": {
  "kernelspec": {
   "display_name": "Python 3",
   "language": "python",
   "name": "python3"
  },
  "language_info": {
   "codemirror_mode": {
    "name": "ipython",
    "version": 3
   },
   "file_extension": ".py",
   "mimetype": "text/x-python",
   "name": "python",
   "nbconvert_exporter": "python",
   "pygments_lexer": "ipython3",
   "version": "3.8.10"
  }
 },
 "nbformat": 4,
 "nbformat_minor": 4
}
